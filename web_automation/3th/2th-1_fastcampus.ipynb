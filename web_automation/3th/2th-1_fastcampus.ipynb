{
 "cells": [
  {
   "cell_type": "code",
   "execution_count": 1,
   "metadata": {},
   "outputs": [
    {
     "data": {
      "text/plain": [
       "'C:\\\\tools3\\\\miniconda3\\\\envs\\\\book'"
      ]
     },
     "execution_count": 1,
     "metadata": {},
     "output_type": "execute_result"
    }
   ],
   "source": [
    "import os\n",
    "import sys\n",
    "os.path.dirname(sys.executable)"
   ]
  },
  {
   "cell_type": "code",
   "execution_count": 5,
   "metadata": {},
   "outputs": [],
   "source": [
    "from selenium import webdriver\n",
    "driver = webdriver.Chrome('./chromedriver')"
   ]
  },
  {
   "cell_type": "code",
   "execution_count": 6,
   "metadata": {},
   "outputs": [],
   "source": [
    "driver.get('https://www.fastcampus.co.kr/category_dev_camp/')"
   ]
  },
  {
   "cell_type": "code",
   "execution_count": 14,
   "metadata": {},
   "outputs": [],
   "source": [
    "courses = driver.find_elements_by_class_name('vn-product-list__info')"
   ]
  },
  {
   "cell_type": "code",
   "execution_count": 15,
   "metadata": {},
   "outputs": [
    {
     "data": {
      "text/plain": [
       "list"
      ]
     },
     "execution_count": 15,
     "metadata": {},
     "output_type": "execute_result"
    }
   ],
   "source": [
    "type(courses)"
   ]
  },
  {
   "cell_type": "code",
   "execution_count": 16,
   "metadata": {},
   "outputs": [
    {
     "data": {
      "text/plain": [
       "[<selenium.webdriver.remote.webelement.WebElement (session=\"fc098561db769d868351085722279ab2\", element=\"f117d0a1-be8f-4d0c-aaca-25e1643f9800\")>,\n",
       " <selenium.webdriver.remote.webelement.WebElement (session=\"fc098561db769d868351085722279ab2\", element=\"6fd62959-1cec-4cfd-806e-c0e6e38c91d8\")>,\n",
       " <selenium.webdriver.remote.webelement.WebElement (session=\"fc098561db769d868351085722279ab2\", element=\"60ce5db7-01b0-4563-8cc1-843177b6ceca\")>,\n",
       " <selenium.webdriver.remote.webelement.WebElement (session=\"fc098561db769d868351085722279ab2\", element=\"1729578d-b307-4f06-b1ad-eb2a8b4d5a1a\")>,\n",
       " <selenium.webdriver.remote.webelement.WebElement (session=\"fc098561db769d868351085722279ab2\", element=\"1bfb7a23-2f5d-40f3-9ef4-d48ca9d10499\")>,\n",
       " <selenium.webdriver.remote.webelement.WebElement (session=\"fc098561db769d868351085722279ab2\", element=\"13da2cd8-8afb-4d38-8fa4-9ba24ba5abf2\")>,\n",
       " <selenium.webdriver.remote.webelement.WebElement (session=\"fc098561db769d868351085722279ab2\", element=\"6c03a5fd-847f-4974-9110-2ae436b5384c\")>,\n",
       " <selenium.webdriver.remote.webelement.WebElement (session=\"fc098561db769d868351085722279ab2\", element=\"cca81c49-57e4-4598-8d9c-8adcda2f3352\")>,\n",
       " <selenium.webdriver.remote.webelement.WebElement (session=\"fc098561db769d868351085722279ab2\", element=\"9a16cc31-ce80-4e34-8e7a-d7b519b9081a\")>,\n",
       " <selenium.webdriver.remote.webelement.WebElement (session=\"fc098561db769d868351085722279ab2\", element=\"a103637f-ea33-4427-bd54-27132b1d7361\")>,\n",
       " <selenium.webdriver.remote.webelement.WebElement (session=\"fc098561db769d868351085722279ab2\", element=\"dc87536c-e141-4772-bd31-4608a7d7047e\")>,\n",
       " <selenium.webdriver.remote.webelement.WebElement (session=\"fc098561db769d868351085722279ab2\", element=\"b3d0ba0b-7a02-4f6c-a761-c7f251f0496d\")>,\n",
       " <selenium.webdriver.remote.webelement.WebElement (session=\"fc098561db769d868351085722279ab2\", element=\"e7403db6-14ba-4181-bcab-bd297c3b41f5\")>,\n",
       " <selenium.webdriver.remote.webelement.WebElement (session=\"fc098561db769d868351085722279ab2\", element=\"08a6913e-05ee-4aa4-9c45-f14012bc1ed9\")>,\n",
       " <selenium.webdriver.remote.webelement.WebElement (session=\"fc098561db769d868351085722279ab2\", element=\"510cfb8c-ea53-41c4-8398-004dd5720dc8\")>]"
      ]
     },
     "execution_count": 16,
     "metadata": {},
     "output_type": "execute_result"
    }
   ],
   "source": [
    "courses"
   ]
  },
  {
   "cell_type": "code",
   "execution_count": 17,
   "metadata": {},
   "outputs": [
    {
     "name": "stdout",
     "output_type": "stream",
     "text": [
      "DevOps 구축 Boot CAMP\n",
      "----------\n",
      "JavaScript Boot CAMP\n",
      "----------\n",
      "OpenCV C++로 배우는 컴퓨터 비전 프로그래밍 CAMP\n",
      "----------\n",
      "React로 구현하는 웹 애플리케이션 프로젝트 CAMP\n",
      "----------\n",
      "Docker 기반의 DevOps 인프라 구축 WORKSHOP\n",
      "----------\n",
      "스프링부트를 활용한 자바 웹 프로그래밍 CAMP\n",
      "----------\n",
      "Vue.js 정복 CAMP\n",
      "----------\n",
      "나홀로 DDD Workshop\n",
      "----------\n",
      "Node.js로 구현하는 쇼핑몰 프로젝트 CAMP\n",
      "----------\n",
      "프로젝트로 정복하는 RxJava CAMP\n",
      "----------\n",
      "Django를 활용한 쇼핑몰 프로젝트 CAMP\n",
      "----------\n",
      "Flutter로 구현하는 크로스플랫폼 앱 개발\n",
      "----------\n",
      "Vue로 구현하는 PWA CAMP\n",
      "----------\n",
      "인터랙션 VR/AR 콘텐츠 제작 CAMP\n",
      "----------\n",
      "Hyperledger Fabric 프로젝트 CAMP\n",
      "----------\n"
     ]
    }
   ],
   "source": [
    "for course in courses:\n",
    "    name = course.find_element_by_tag_name('strong')\n",
    "    print(name.text.replace('\\n', ''))\n",
    "    print('-'*10)"
   ]
  },
  {
   "cell_type": "code",
   "execution_count": null,
   "metadata": {},
   "outputs": [],
   "source": []
  },
  {
   "cell_type": "code",
   "execution_count": 4,
   "metadata": {},
   "outputs": [],
   "source": [
    "\n",
    "try:\n",
    "    driver.get('https://www.fastcampus.co.kr/category_dev_camp/')\n",
    "\n",
    "    courses = driver.find_elements_by_class_name('course')\n",
    "    for course in courses:\n",
    "        name = course.find_element_by_tag_name('strong')\n",
    "        print(name.text.replace('\\n', ''))\n",
    "        print('-'*10)\n",
    "\n",
    "except Exception as e:\n",
    "    print(e)\n",
    "finally:\n",
    "    driver.quit()\n"
   ]
  },
  {
   "cell_type": "code",
   "execution_count": null,
   "metadata": {},
   "outputs": [],
   "source": []
  }
 ],
 "metadata": {
  "kernelspec": {
   "display_name": "book",
   "language": "python",
   "name": "book"
  },
  "language_info": {
   "codemirror_mode": {
    "name": "ipython",
    "version": 3
   },
   "file_extension": ".py",
   "mimetype": "text/x-python",
   "name": "python",
   "nbconvert_exporter": "python",
   "pygments_lexer": "ipython3",
   "version": "3.7.9"
  }
 },
 "nbformat": 4,
 "nbformat_minor": 4
}
