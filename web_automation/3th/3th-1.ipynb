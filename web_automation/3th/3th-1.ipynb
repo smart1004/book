{
 "cells": [
  {
   "cell_type": "code",
   "execution_count": 9,
   "metadata": {},
   "outputs": [],
   "source": [
    "from selenium import webdriver\n",
    "import datetime\n",
    "import os\n",
    "\n",
    "f = open('products.txt', 'r')\n",
    "products = f.readlines()\n",
    "\n",
    "output = open('output.csv', 'a')\n",
    "\n",
    "driver = webdriver.Chrome('./chromedriver')"
   ]
  },
  {
   "cell_type": "code",
   "execution_count": 10,
   "metadata": {},
   "outputs": [],
   "source": [
    "header = ['']\n",
    "data = [str(datetime.datetime.now())]"
   ]
  },
  {
   "cell_type": "code",
   "execution_count": 11,
   "metadata": {},
   "outputs": [
    {
     "data": {
      "text/plain": [
       "['2020-09-05 19:41:14.461769']"
      ]
     },
     "execution_count": 11,
     "metadata": {},
     "output_type": "execute_result"
    }
   ],
   "source": [
    "data"
   ]
  },
  {
   "cell_type": "code",
   "execution_count": 12,
   "metadata": {},
   "outputs": [
    {
     "name": "stdout",
     "output_type": "stream",
     "text": [
      "알톤 아크라A 하이브리드자전거 로드 삼천리자전거\n"
     ]
    }
   ],
   "source": [
    "for url in products:\n",
    "    url = url.strip()\n",
    "    driver.get(url)\n",
    "\n",
    "    elem = driver.find_element_by_class_name('c_product_info_title')\n",
    "    elem = elem.find_element_by_class_name('title')\n",
    "    name = elem.text\n",
    "    print(name)"
   ]
  },
  {
   "cell_type": "code",
   "execution_count": 23,
   "metadata": {},
   "outputs": [],
   "source": []
  },
  {
   "cell_type": "code",
   "execution_count": 24,
   "metadata": {},
   "outputs": [
    {
     "data": {
      "text/plain": [
       "'200,200'"
      ]
     },
     "execution_count": 24,
     "metadata": {},
     "output_type": "execute_result"
    }
   ],
   "source": [
    "price"
   ]
  },
  {
   "cell_type": "code",
   "execution_count": 25,
   "metadata": {},
   "outputs": [],
   "source": [
    "for url in products:\n",
    "    url = url.strip()\n",
    "    driver.get(url)\n",
    "\n",
    "    elem = driver.find_element_by_class_name('c_product_info_title')\n",
    "    elem = elem.find_element_by_class_name('title')\n",
    "    name = elem.text\n",
    "\n",
    "    elem = driver.find_element_by_class_name('b_product_info_price')\n",
    "    elem = elem.find_element_by_class_name('price')\n",
    "    elem = elem.find_element_by_class_name('value')\n",
    "    price = elem.text\n",
    "\n",
    "    header.append(name.replace(',', ''))\n",
    "    data.append(price.replace(',', ''))"
   ]
  },
  {
   "cell_type": "code",
   "execution_count": 26,
   "metadata": {},
   "outputs": [
    {
     "data": {
      "text/plain": [
       "34"
      ]
     },
     "execution_count": 26,
     "metadata": {},
     "output_type": "execute_result"
    }
   ],
   "source": [
    "if not os.path.exists('output.csv'):\n",
    "    output.write(','.join(header)+'\\n')\n",
    "\n",
    "output.write(','.join(data)+'\\n')"
   ]
  },
  {
   "cell_type": "code",
   "execution_count": 27,
   "metadata": {},
   "outputs": [
    {
     "data": {
      "text/plain": [
       "['2020-09-05 19:41:14.461769', '200200']"
      ]
     },
     "execution_count": 27,
     "metadata": {},
     "output_type": "execute_result"
    }
   ],
   "source": [
    "data"
   ]
  },
  {
   "cell_type": "code",
   "execution_count": null,
   "metadata": {},
   "outputs": [],
   "source": []
  },
  {
   "cell_type": "raw",
   "metadata": {},
   "source": [
    "for url in products:\n",
    "    url = url.strip()\n",
    "    driver.get(url)\n",
    "\n",
    "    elem = driver.find_element_by_class_name('heading')\n",
    "    elem = elem.find_element_by_tag_name('h2')\n",
    "    name = elem.text\n",
    "\n",
    "    elem = driver.find_element_by_class_name('prdc_default_info')\n",
    "    elem = elem.find_element_by_class_name('sale_price')\n",
    "    price = elem.text\n",
    "\n",
    "    header.append(name.replace(',', ''))\n",
    "    data.append(price.replace(',', ''))"
   ]
  },
  {
   "cell_type": "code",
   "execution_count": null,
   "metadata": {},
   "outputs": [],
   "source": []
  }
 ],
 "metadata": {
  "kernelspec": {
   "display_name": "book",
   "language": "python",
   "name": "book"
  },
  "language_info": {
   "codemirror_mode": {
    "name": "ipython",
    "version": 3
   },
   "file_extension": ".py",
   "mimetype": "text/x-python",
   "name": "python",
   "nbconvert_exporter": "python",
   "pygments_lexer": "ipython3",
   "version": "3.7.9"
  }
 },
 "nbformat": 4,
 "nbformat_minor": 4
}
