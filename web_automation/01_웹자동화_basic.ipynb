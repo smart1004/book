{
 "cells": [
  {
   "cell_type": "markdown",
   "metadata": {},
   "source": [
    "**naver 광고 검색 노출 순위 조사**   \n",
    "**[ 유저 시나리오 ]**  \n",
    "나는 OO포장이사 마케터이고 네이버 광고마케팅을 담당하고 있다.\n",
    "\n",
    "네이버 키워드 검색 시 순위1 ~ 5위 안에 드는 광고게시글 링크를 추출하고  \n",
    "전날과 비교해서 순위가 변동된 내역을 메일로 받아 보길 원한다. \n",
    "- 검색 키워드 : ‘포장이사’\n",
    "- 매일 오후 4시 메일 송부"
   ]
  },
  {
   "cell_type": "code",
   "execution_count": null,
   "metadata": {},
   "outputs": [],
   "source": []
  },
  {
   "cell_type": "code",
   "execution_count": 1,
   "metadata": {},
   "outputs": [],
   "source": [
    "from selenium import webdriver\n",
    "driver = webdriver.Chrome('./chromedriver')"
   ]
  },
  {
   "cell_type": "code",
   "execution_count": 2,
   "metadata": {},
   "outputs": [],
   "source": [
    "driver.get('https://naver.com/') #naver로 이동한다"
   ]
  },
  {
   "cell_type": "code",
   "execution_count": null,
   "metadata": {},
   "outputs": [],
   "source": []
  },
  {
   "cell_type": "markdown",
   "metadata": {},
   "source": [
    "**포장이사로 검색한다.**"
   ]
  },
  {
   "cell_type": "code",
   "execution_count": 3,
   "metadata": {},
   "outputs": [],
   "source": [
    "elem = driver.find_element_by_id('query') #검색키워드 입력박스"
   ]
  },
  {
   "cell_type": "code",
   "execution_count": 4,
   "metadata": {},
   "outputs": [],
   "source": [
    "elem.send_keys('포장이사') # 포장이사를 입력한다\n",
    "\n",
    "from selenium.webdriver.common.keys import Keys # RETURN Enter를 \n",
    "elem.send_keys(Keys.RETURN) #Enter를 누른다"
   ]
  },
  {
   "cell_type": "code",
   "execution_count": 5,
   "metadata": {},
   "outputs": [
    {
     "data": {
      "text/plain": [
       "'\\ue006'"
      ]
     },
     "execution_count": 5,
     "metadata": {},
     "output_type": "execute_result"
    }
   ],
   "source": [
    "Keys.RETURN"
   ]
  },
  {
   "cell_type": "code",
   "execution_count": 6,
   "metadata": {},
   "outputs": [],
   "source": [
    "elem = driver.find_element_by_id('power_link_body')\n",
    "#저 id를 어떻게 알게 되었는가?\n",
    "#print(elem.text)"
   ]
  },
  {
   "cell_type": "code",
   "execution_count": null,
   "metadata": {},
   "outputs": [],
   "source": []
  },
  {
   "cell_type": "code",
   "execution_count": 7,
   "metadata": {},
   "outputs": [],
   "source": [
    "li_list = elem.find_elements_by_tag_name('li')"
   ]
  },
  {
   "cell_type": "code",
   "execution_count": 8,
   "metadata": {},
   "outputs": [],
   "source": []
  },
  {
   "cell_type": "code",
   "execution_count": 9,
   "metadata": {},
   "outputs": [
    {
     "name": "stdout",
     "output_type": "stream",
     "text": [
      "1\n",
      "mc조영구 포장이사 영구크린\n",
      "https://adcr.naver.com/adcr?x=31C21kiCJ115fpFagviiaP///w==kOfc6JB6GrZ+ewiXJN5eV7x+M67nRSkBedu1sjPmZPeOuyBumvlE/M3TznNUDeRSLiPfQero/aTPHHdwhASkxMG94AhjEPHkqNMJbdqYMpRXbpCNbk2va2vMIKCY2pwZ4POF0BwJHOuorDe6fe+x+eJQ2ncoXV7TkwkncwKssbGZSm7OPRNYi+6Es6bDxwyQ0MHYa0hlUaZiPqZJKkXTPbYLG3msJZCZy54ugwQF3z+eeqvWuoxSVgXTUDXp/Ahxi5QRfWIHg0eleUHaZu5blReNi9E7nxcsOsTXjbL0ZQ7JRPLLEe8DZX1iY4KhGJUOAMQvt0q4deO1tYu9cGfEOfe2PDG8gQYPVijnDp6Kt5w/UVoNa9/oga27jZyvSKcHJtCDlf+thYkAotiZMfAdYMAjam4kaJBj+j/RbdAMJZvsgVOBkxHykLc9mOTinpMCU34XNFP5c5lrJPX29zsoTxgg4O8lFHAQTbZyXVUJIdNxNX3oQEa+iv+Jk5U0ULagLeWtEFkhOrmQfzX105XFeeCDlxhfVGbsCNdZ99l4enG0X7KPiUtO7GwMwUvP2YTdrjOxPjTIviucEDhHEAMoeczlBvD0B3EOJtlaT2DVm91mYXSjeC5O2NGkwPiliv8U4E7g449cn9zbfNsCo77hJgFhfoHPoAloPhqshkP/+fMgCRECnYLUI2GxdeMoViqE0d9FzbCpULa4IvywOz767c83DbxlgXEjH90tLcr0X+bpfom5AvRPCZXRrtXSe4W4TLWHl6Oc0KD5jNSrl7cz57Ae7JGyTFOGSL+E65xJ3Bcc=&p=0\n",
      "********************\n",
      "2\n",
      "포장이사견적비교 (주)이사몰\n",
      "https://adcr.naver.com/adcr?x=M5B1HXbrtic3zPm3cSQq/////w==k4j5eV0CE39qweSVg0E51b//P4L4ABaGFWCSCADu7r3Zaw4HEaQRdieQluUaNkQC9JovQUkXyYiJOt5o3cgSH0kmQiaa21/3FWJ80oqpMTsPTfPPQcCLLuwBG0PJ1sBRaOmZUvugydTjQA9lOIFITlX55FPfbYe73jbs833Un9pHQESVj076jAl2Jpn721G9p5I+n0M5VmdOp21cO4tXYupiTHLsIIf/HsLx67nknqwQMSElU59X4YfjR7Om96GqZsZ89+XkmcyNnqpt/A99dLEFGU4vUDw6o507GiSa7Y95MpqEndVCqr8at0Clb58mOtt7v9lT+K05xOakmP0mb3L6omaVZfBwpvEgze2XfZ5rG0oIgdSbMG80q+z/mWRY30sLXvoP+8y6GjSzj+bUjMMFs84Ei9FSBU9KRgsGUE5mkAVIiGC0mIGj/bIiQlmBPjbsZ/6jmHSLlQoc0ASUsvamrNYYrMo/K4VzgXkTnZFzH6iHceeQQn27XQ4LaLOXAQoYz44zSVN6RBwT1hjvzCIwrDOU7CipugsQfbczuYgqo9GBsvRBqo6J4byko2l2Bk9cZWdvqpPzlaH6lWCvMzX0TaNEXbJ+QmwpnX8qLEvGXcNdoxUaEjMV6Azd9Yd/rsYqVASWHV2L23BlBRjhgEgRm0m9T1zWQrz4wnL8FToZbR8WIQ9LPpUpScwWdK9qPhXqHcWfknQNlSO3ns38PAIbKzlXr161G3RotHe4Hfp3uczSRlNdItgRPxwybpbBNdBDvvMYFlXOisa8jexO89qaUpG52IBbdWEvuEsgbR9k=&p=0\n",
      "********************\n",
      "3\n",
      "이사업체1분매칭 위매치다이사\n",
      "https://adcr.naver.com/adcr?x=c0YMfSkX51lG7pnj6vn2Ef///w==kePKA35kZstippq7OEb0sqAJeHs1EPppOgT24Y5MaoEMw9a306iUKWMfFYId8tgfJV5KCy1v4KhsJJ6LCyquxlqamm88D+LSUnIPDH4hwQMWnNo8mRWz1NYYKWEp02XyWoxm2ja+eZHLVzEfOIJL4sfQgXr9GQmb9VuOxIG+J0Pxk5MrKKXLoDOscivgWhtDBeVZ1Ela3tOI9YLfcKu4RqPCXDZxX29pgHXv3qVndO+RIsRix5/p04+mP1wGIXUC9BSDPXCemy9BDYo0wkLTUsahnA6Syh5mfEjnix8vrL9yPmhwAiFbfq4nOzRrGvz+Uulz2a5jBXL+iEQkGCzeBYDSgah6U8mzbrmmsx3w69U3Wwz9Wq3F54n+C8LARiR9g6P5caK2WmCkBxgoKoDSRjebhttz2c2aaLcXxMXPLCoOC1Xt48eKZ1NZmTerG4OBSdBioo1IKm+8y4VdeMN6pfCz2a0M+twD5WjYwv1Pjs+gAnGnvp5c9ymOjj4yaFr77eSyMZ3noq+Dy2MfDDpVgpFxjaPfRiFnvuYRHmMsWyTXo3yUqTjZJYIpVNFb5YiXEE90KhsDCWG8E0r+I1yhxajPrGtiAUenraDvp5z2/jATLLYm5zp1XuEL9bw79HHE0MjpVNgys27eTpJSn3Q6aI1Dn+bUEvzRTFckGT2czx88QNSUMj2wbh+WSmgcxSSbGdmYq9PMj+uAb1SkkbPc+19gKCrbPtO8sqsIIg4nCP3HKn7qSdpPzxG2iyp2Aoa7nVNwc6Uop+pl4pk8pp3+JDIFsp0SMxLmKFUjmtqhnPWxj5gQtBKfvjTWK6tv1cppNI3EnpbNseyzwD1HZnezqZN1ipA2zHTiGjACmgtjJ1o1AI+Z4z2EfrYB1Ms1BpDVJqKJSRtL0FF3MMRGyQxVZxQ==&p=0\n",
      "********************\n",
      "4\n",
      "3개 업체 비교견적 모두이사\n",
      "https://adcr.naver.com/adcr?x=0AsGSTgrtefvntFVIBBLnP///w==k8Epf0KBfXhwn86INdYizZUXiiFF1/9lIP/EEC8OzD4NRqnWPhr/TKwCE3i0GsOrPm2s8LvLjJGHReHRujJcC5XrsQzhyJR7Jzk9Wv1ik9+XW5t0WQIX7c15Fge7StedZAflwyVIwG7pScXoxCbF81Bvd3dYnkNQoYK1uHpnNd8vV0qgkDa19q3zsfQEWclrMDUCEB7/ppFNUvYgJp4sXx2GBS6VDi4pVkqDACfkOiXUnE9IA4GEQa8+Q51zRuU/O9ZMfBji1WBUvlERADQnOTflrARb54wiFJ2zPKVB7Qy0FSmg7tf5kkGpOpYNCdaDIOH58TL5jeZemjcNTrITPKLTFCh8mAMzWDDiTnVZ3pNkcf5q66+odvymgUXEC6tjvoEa229pA4ekHbDZ5/W4PxxEWwBH9pkjmgblSzXvMdu8vGwmMk5h+tcl4pzNeyKb/Y7Gbt1TGGieVHug0bw+iaWyvDUAUbhP+Q7+4orBB4Ltr64ohiM4QOziYHHhlxfPiJKgEhE/EmbFrTS1TE9r9BFHgS2ID/WD8iSVWtODJnWw6DGIkLDlVvHujjnuBJWeTpMtvZPy3HvcD1fm7FTn9Qm5+3FrakvgDBXV7pRj5IyqRM920o5akkdBV/u9kXSFvR81/4NSgKl99bE1ZQHRL+byuGQQ+2sGC66Q/ovAjePceMv9C9MisexyBh5MiGHmIh9MLstrDuzZnzkFbdly7vZoj+2w1lt5jHIlYKVPiAYbzdT1hsVNpcuEGsXEQbOLOpd/4ZMRniMqpwpbOg0wMQz4A21r4O5M4bmkXVkRYtYEs/ZuZoKQX+fb/9c+f0chK&p=0\n",
      "********************\n",
      "5\n",
      "포장이사비교 랭키1위 이사몰\n",
      "https://adcr.naver.com/adcr?x=uy2IsgNhdnZwIv+nVSXaqP///w==kOfc6JB6GrZ+ewiXJN5eV79ji2TTc6Bc7kXopF4JghAkppvzQO5qmBUOQtJSGecydwQWdVVn92RVXd1xeqlTNfszV6VwoIOuWdvsQF3/Ei11kzWHpEffPOOqGnNqy0z0LvTpwrkVIfCnnwvSncEeKMgwP7LWhdQ8PoK3jHY/8uTFwrvrzaVyJkHpvh9+10k3FgWbiKdYsol2h/8JDjt8KcJKZViswCgEIMy+kn6w1FbT47Smj9UST6N+yBidQbmv/DA9Tny790GCj2hhPUTy0DtJjwAILxM5ENXI+tqeuiceZXgHZpafFJtGoKf3IbN5DcA43H1mcLt9Ut5tmIjQELenx3wSRw9iC4qac5auyru8EJoIMzOrlroCPQUrv4eZlljyjqKXPlSHc1MpfSDyAv6cf5hwUUKMaXSf6HwkYnswTWqkC7MzdTKHCQ11fBcWTsGTb1SxEeH64rBhbAZJBVc2FJoeZ2codB83CCM+6cXZm/AWYBsR8Oj8RuDgVZ/BUi7CrMlyKlrm2klWEf7caLhD4cW3XFJ1nyfa1iADydyRZo22NKll3u9RKZsijIrUm38+ZzyqWyagTt+5OCIt77q2A9hf15uRBFHfQzxwGQAkgAShXDqADU3e7xz5OhGNrvsmgxuDMwtgp31yRvAtTyPKfY2jqGP61RK+WXt0PRehQxBRU9EqoCVCZgGD0kfPzafLGcCvZvevdjy4eXs5S1TmGEDUX//UaC9hQgZPIUsY8fZhz04oHyVyDqZZDZODev/WPwK6ks9nvgg1+CmOjuaCtOZzFIVaoaFCUBqeH9NQ=&p=0\n",
      "********************\n",
      "6\n",
      "포장이사가격비교 24번가\n",
      "https://adcr.naver.com/adcr?x=l3oF5JXihbQtmtOL2cT/5f///w==kUiPxLjhy+foQMO3rJ0kMID8kgHwq+dNr+QnzF0vpDNPk+5ZSXUNCvmmjh+yzBBCjw9tnA3qZBaNS67wkBi+vuf1zucGH8Noa+5iStUT1G8T10VItfBbqbhNy7VX3ijXvDF+Cqa8e3iSba3Mmns7I44KIjXvI1FLQkBvqJ8p5YfEgF7Olaobr0qoJHA6rf6UrdXiMB+ZpugqzTgPpCGnjcdU6PmLjmPGs5vfVAqGIuHQBOvXwompym4tsmCXsuIgw6e88RhnRTWsBA44ZWf5Rcy/N73CPr2u+Q56W3uF27bquXPsw/ulaapoKOOlFdh/6BjCHtV54r28rjhJ1QysdRw+ySDQfOFkqI5ET/c9+1IkZ2K9DcdzqaM+zE/5OvUOf8Oep5wj+PsP7PcsdUhcXB9fkr4esJJj55ZallMfrlnGzgVCghoONpBk1TpKU2+A03oxSbvntWl90o0XeVffiAW3CGNtmVJ/gyPWMqEQXzwYfJ9TKYBPlo3fCHcgawclpXPO8bFhMhrQwuAb1pUUiPs/KKm8B9LTzAuS9iOyNcAkMNNw3Sz9/25NmwvF97cYkVcLXH37G3BOu98MTqHSt+Mc6Eops6KOxV7p85vumhQq4DcU3rGdZ5tcdeg0oLCuHg1ji+BddGU1G3TG48ThtZQ==&p=0\n",
      "********************\n",
      "7\n",
      "포장이사 이제는 +다방+\n",
      "https://adcr.naver.com/adcr?x=WgKdLnuwK2JMhnUBpRato////w==kC1OH/ptxnq8OQyzFL72hrNnUMoD38rCPCxWTaHg1B0wlKaZS2YbEHZ0+Ji3pBafPrV3/aeDMvnSBbuKC4K2SHBRmKAAG/JPN9cF1oyy8tEO88oeF5QHKJKAQHQ34x7bCaWpAOZ73RDksqbS395ElPKq0p9B+/gBLA/yJPKBawenRX7OgVfno025V9UpNIj00GIwwU8RMdnyuL28tKaurdSeHd9IcRMCMApYnOxNYgx0M6v/sOy2FG7/w5exAr765ciriE004mcn9jtudSn2ue7tVqpBuP4NmaZdJm/LpkjX7f0P4gaJRt5J5bF/gbIwMJQeZ4EqpFawtvIiRbL/CK015c82rp9kcWL/csOBEZf0NJmzUnEmsGDwdGsuPjUb1mQCpeNKQYnTDmMFBsyfLUWiKd8okvHzPKxkSn9NSW+SDhjPVqjUF+Yj/3YlFS0LHBYc1tpwaTcTxlMTZ3VKd5BUdEcE8KasLDZUDRFZeozGn4ItGaIyJSP/XRBlR7a2Gmyy3b8nt81k7bvk5PTWer9/ReRkYAa82H6G/9pkBDrHG36ieLUI71HSXbpmQJEfxP1rfIurMhfpp2qYFOiqmJFWF0qVjbzVllxbE6eH3sdG4OfKVk6Bj3TRaHk0qwBl+fuaFdOlYlPBR8jUwy5PCh7jYSlTyxmXBTF4K6IPYvYLamNh3EXhbli5Sul+sretCITCjyaH+g60dh+tmn2xYWTsQaUk2ESXvA9pOBfEX/7RdWGKDjZrMWrVwBZr0/0fU3pvwTMkK7wU8pE1gh331Vg==&p=0\n",
      "********************\n",
      "8\n",
      "포장이사 OK이사이사\n",
      "https://adcr.naver.com/adcr?x=vGl2Sl/Q/geOPhKWkUKZnP///w==kRAAD+RJPndjni5I3Kh1wpwC3QOGEyx7IeESRky2C59OfGKPnRFglufgFmo3qd0bTxQKGfe7sNFPK/X8rioqy07gdLdXsP3pdyDRVApoRlKmfb3DHLyXXPvLEu4yM0wNAPI5pUp3qA72uxkyFQ3YO7Zdu2cKKg7UIU8vnxcTauBiWpOxhjf7Kn983jG7fRncq1t8qsBTRI3i04iYV6/RZS9wyEVT2F6pLbYVh3+ZhU4bVrQ16TQsH8INyqooCOVs9Kuep9Tpaj6nu8XV2yBFkQwqL3lc1xQ17bi4/4bIq1prTawyclymt1Lw3XW4dxR5GgGwapZ1Dg9OM13yhcBQrNkJMSZCb4Qi9B2z53Hnrs7mrhRgo1q83iezxfMEbt75EkkRn7uQcs650+/s+UGDSBCmDKkAaxyQNxj+CN0O/Q9BcavwvEPemXPttxsCXXtK/IM4E3fMhoFDQm5LUV0/5gqbU/QeEmjs40ZWk9Gc1xGsH+yQrJ/xG3+iE92kiNQmaLbipm9T0HIEwuUvYX5+SieudDgGJmasyWrwfm4Bc9JWotH7Be/CP7nDnB2UM4n2emo52DOqxc/XlPqhaGsZ0hH7S7glJJegJwEWH/3gUZ6fxre0XLStNnrLOgGKbrXOPqPjKNT+cnDp1BbboVYz7dJRd2gZTtWQ/l5BLfV6CyRUorY9PDvbI7OlZO2jtQZctW5CnCGW7Gt/z/ijwjEAooolp5ZEjxHaPgmr///rY4FeZo1TketuwSq1cqFyblcUrISpV6IIRB0aEW4JIhMnrYWgAyF+efh3ANGzPEYxzgrP5qQITadLu7IIN/F3PArJl&p=0\n",
      "********************\n",
      "9\n",
      "명품이사브랜드 로젠이사\n",
      "https://adcr.naver.com/adcr?x=ocCf9DIjD6fqIph8vbq2Pf///w==kiwcHj81AQmgliO7jTJvOKxRuDRpDfk+WUKj96jtDI4V+gmU7FesyRb1eqYSik0nqNHBmdKabTA+KG5Mox+SIa3AzYD0HxiKJsxfZ2Y2w8Rw9SbArilGVxf271/ZIfzMqlLfGkfkVarE1rvNLcGExHirGezv4+w/gDxJDfRNOREyuUHNp9MI2vT0FlABO6F3MKG+gt2laF4aiyRKL/hMNdeE4wz0IzpdwRnkSLVQ0vGwNi58LrnUWeL7u0qapflZ87ohFx1VD6rekJFjyA0SnUY2j1lBolV8ImKwGYzY0dMMulqxsriW+uW0+yCvykNy58ub8knAbuGUwDGAugJpkikfJtZK141O9gKp0Y/BuqZ4tVvUkCuftfI93LJGYeyI7aLP3h4kfssISSUjWVS5nQV6/D1V9oWTOvc6f1ECvum0MZypu30LVZhG1+vNqa0DCUSzoR/ldZ6Bi71h+J25BPSGVY0sogKJfWdZEQrK/LV6DrFBh9Ef6m+jaQei9P4svP7SkIX1FDXHKZTFX8Kt2DZByf+Rh8Wr8a2nsn1ZOPyzyvCmzTvLMd2MakPdGSVfuYoeoFiEUiJtNw1YmP2p4AJwDF0k9TXS/8qYLSJdijNB0iFFdtrwZ4am3EzpOLsqQKN5tb5bwZchUYVmJDF84pFYO3SDCg3cjgODJTkiksxm8qJ0Ns00qybJbBHqdKWFsyWwi61YF3uNBIzPFmVzS4euXhJWMv4JvmB2ZeufjO2vmZuRG3jHOSTVrbunJ1wUo&p=0\n",
      "********************\n",
      "10\n",
      "포장이사 전문 홍반장이사\n",
      "https://adcr.naver.com/adcr?x=KaJzJWsgZnQVKybh9/bF8f///w==knc11U63tA4dfNcJnYOrf9Aqep/itxgZRrkkZHNDzRWZxR9/fLnNRuOGVBy3RT3T+slgLJFqDdlW3mKpnGgGS4ZaZRxVZALtsjU6eumJEy0LUqhjNVhXqhS0WCHPdMiq4CoxFdsAi84GNTAgocTYuOnnlsOjlAy272w4GYl7uwF2kO043B/i1Xwqvzj8di7dn/3Z5oJWDkaWki3mE7rJdpHSnHOlE5fNP1WQsiLU0qlc7S/0YbHh6pGUqNoeeAN9BwLxANgtnA3xcSnBhc2OTsclNiOdGa1gAIbih6xOc1B1UcmtjSaiI98r6levUzTVoa5xdq+gY/K2Q2E0/pnGR8o2JDtbOngDbywbcG5fftiFRUyQUY40U4IpL5vpdgm9O8lFAK9MGaH+DjEw3Zfo1NkRUqVrVkBVWPjAJ0ltCxgRZiIUGQg49zFzTOkkx6pN58+a5ON1RdpBjRwaCx+4eYFSjHKjtF718h3i8GO94Cz+MoTFesclo55c4tEnHe21F31/zvLTPid2at68+bQMEz6LPTgaVrKLX4ACn1dx4PB/3RdGm+w4MZy5DPMyn1vQKKDcB+xahBF1tm/dPLn2FP/hCBJGczWZEXitgJMcRV4rl+g58ad7qcJ1pxJgc86VTDwNVk/DnfogmDUpmXWhaaqL9w4XwuyMo9V8W88IsOyE2NnCuJY8X5o3VcQiwkFckiPghl33XfuHVzAwd91wrDf6MSNrhDa/ArgJBpzrctlZNIE4Br3COVujQxIeKuj+ubXB5NSRzeQXBvneSuTUEkYF+5OfTxwk/K0i7WJ7xOjI=&p=0\n",
      "********************\n"
     ]
    }
   ],
   "source": [
    "rank=1\n",
    "for li in li_list:\n",
    "    inner_list = li.find_elements_by_class_name('inner')\n",
    "    for inner in inner_list:\n",
    "        a_tag = inner.find_element_by_tag_name('a')\n",
    "        link = a_tag.get_attribute('href')\n",
    "        print(rank)        # 업체 검색순위\n",
    "        print(a_tag.text)  # 이사업체명\n",
    "        print(link)        # 업체 링크\n",
    "        rank = rank + 1    # 순위를 증가시킨다 \n",
    "        print(\"*\" * 20)    # *를 20번 출력한다   "
   ]
  },
  {
   "cell_type": "code",
   "execution_count": null,
   "metadata": {},
   "outputs": [],
   "source": []
  },
  {
   "cell_type": "code",
   "execution_count": null,
   "metadata": {},
   "outputs": [],
   "source": []
  },
  {
   "cell_type": "code",
   "execution_count": null,
   "metadata": {},
   "outputs": [],
   "source": [
    "driver.quit()"
   ]
  },
  {
   "cell_type": "code",
   "execution_count": null,
   "metadata": {},
   "outputs": [],
   "source": []
  }
 ],
 "metadata": {
  "kernelspec": {
   "display_name": "book",
   "language": "python",
   "name": "book"
  },
  "language_info": {
   "codemirror_mode": {
    "name": "ipython",
    "version": 3
   },
   "file_extension": ".py",
   "mimetype": "text/x-python",
   "name": "python",
   "nbconvert_exporter": "python",
   "pygments_lexer": "ipython3",
   "version": "3.7.9"
  }
 },
 "nbformat": 4,
 "nbformat_minor": 4
}
