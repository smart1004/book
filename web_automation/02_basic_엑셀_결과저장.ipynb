{
 "cells": [
  {
   "cell_type": "markdown",
   "metadata": {},
   "source": [
    "**naver 광고 검색 노출 순위 조사**   \n",
    "**[ 유저 시나리오 ]**  \n",
    "나는 OO포장이사 마케터이고 네이버 광고마케팅을 담당하고 있다.\n",
    "\n",
    "네이버 키워드 검색 시 순위1 ~ 5위 안에 드는 광고게시글 링크를 추출하고  \n",
    "전날과 비교해서 순위가 변동된 내역을 메일로 받아 보길 원한다. \n",
    "- 검색 키워드 : ‘포장이사’\n",
    "- 매일 오후 4시 메일 송부"
   ]
  },
  {
   "cell_type": "code",
   "execution_count": null,
   "metadata": {},
   "outputs": [],
   "source": []
  },
  {
   "cell_type": "markdown",
   "metadata": {},
   "source": [
    "**결과를 엑셀에 저장한다**"
   ]
  },
  {
   "cell_type": "code",
   "execution_count": 1,
   "metadata": {},
   "outputs": [],
   "source": [
    "from selenium import webdriver\n",
    "driver = webdriver.Chrome('./chromedriver')"
   ]
  },
  {
   "cell_type": "code",
   "execution_count": 2,
   "metadata": {},
   "outputs": [],
   "source": [
    "driver.get('https://naver.com/') #naver로 이동한다"
   ]
  },
  {
   "cell_type": "code",
   "execution_count": null,
   "metadata": {},
   "outputs": [],
   "source": []
  },
  {
   "cell_type": "markdown",
   "metadata": {},
   "source": [
    "**포장이사로 검색한다.**"
   ]
  },
  {
   "cell_type": "code",
   "execution_count": 3,
   "metadata": {},
   "outputs": [],
   "source": [
    "elem = driver.find_element_by_id('query') #검색키워드 입력박스"
   ]
  },
  {
   "cell_type": "code",
   "execution_count": 4,
   "metadata": {},
   "outputs": [],
   "source": [
    "elem.send_keys('포장이사') # 포장이사를 입력한다\n",
    "\n",
    "from selenium.webdriver.common.keys import Keys # RETURN Enter를 \n",
    "elem.send_keys(Keys.RETURN) #Enter를 누른다"
   ]
  },
  {
   "cell_type": "code",
   "execution_count": 5,
   "metadata": {},
   "outputs": [
    {
     "data": {
      "text/plain": [
       "'\\ue006'"
      ]
     },
     "execution_count": 5,
     "metadata": {},
     "output_type": "execute_result"
    }
   ],
   "source": [
    "Keys.RETURN"
   ]
  },
  {
   "cell_type": "code",
   "execution_count": 6,
   "metadata": {},
   "outputs": [],
   "source": [
    "elem = driver.find_element_by_id('power_link_body')\n",
    "#저 id를 어떻게 알게 되었는가?\n",
    "#print(elem.text)"
   ]
  },
  {
   "cell_type": "code",
   "execution_count": null,
   "metadata": {},
   "outputs": [],
   "source": []
  },
  {
   "cell_type": "code",
   "execution_count": 7,
   "metadata": {},
   "outputs": [],
   "source": [
    "li_list = elem.find_elements_by_tag_name('li')"
   ]
  },
  {
   "cell_type": "code",
   "execution_count": 8,
   "metadata": {},
   "outputs": [
    {
     "name": "stderr",
     "output_type": "stream",
     "text": [
      "C:\\tools3\\miniconda3\\envs\\book\\lib\\site-packages\\numpy\\__init__.py:138: UserWarning: mkl-service package failed to import, therefore Intel(R) MKL initialization ensuring its correct out-of-the box operation under condition when Gnu OpenMP had already been loaded by Python process is not assured. Please install mkl-service package, see http://github.com/IntelPython/mkl-service\n",
      "  from . import _distributor_init\n"
     ]
    }
   ],
   "source": [
    "from openpyxl import Workbook\n",
    "xlsx = Workbook()\n",
    "sheet = xlsx.active\n",
    "sheet.append(['Title', 'Link', 'Naver_Rank'])"
   ]
  },
  {
   "cell_type": "code",
   "execution_count": null,
   "metadata": {},
   "outputs": [],
   "source": []
  },
  {
   "cell_type": "code",
   "execution_count": 9,
   "metadata": {},
   "outputs": [
    {
     "name": "stdout",
     "output_type": "stream",
     "text": [
      "1\n",
      "mc조영구 포장이사 영구크린\n",
      "https://adcr.naver.com/adcr?x=qiVnxBms9Xe5i7+N8KuNIP///w==knkK1Ymrpf3GMD8OMBmhlMR06BBtdcwOsWT6GCGo/msfFgn/1CZBeSDEn+uxmoE/+8cnKPgfR+tjxOTgaqGmr78iK/bjmd9jZm4P2GgfK+4ASkq+02DPJ/1ODoDkQCzXXUE7WGGZIY/uFGLBcaiRdBrk1I2zEafGUrZIP37kcvN2BnkWQ9JxAvteVa4Zc35z4U7dXh9rlqoZZmfGPFnxFVDcKqha6MLvK8S+zsaunQJmrCDujPDUin0PcF5jDX+yD+myKyynnELfHNP2v+5MCT/AO8Ebctk2UbyljjpLOvT9tRyeHs1jFCgh85RKV0QSkmGLFB+KfAT6tYueSVTt808XU6XGFyiPcVSveCvfF4ah8wGZ0RC54Fzs/r4OvyKuLTxWQeqaDnSNpEwQlrNCLzRaT6rlWWI4+uDNwkWdNJZFIsso30gJ4OcaKdVGys9U4Jyuhn/DEKKpltMNE43SJNVXMUsNZrISNtKJit3d7QGstSkoLCpS/dUqsj3/QY0GMdxS8aOyO+4HyU5PiZ+I8kLqdmosrjfClEBsFVbxAmFGMo4q8T7P96Ep+7BQ+z+yZhG6kAmAlF4WzUDmYf6ZwXIwVUhPrK12aSb+2QVf/iPQaMKNxeW8rkBjv6bfK1XIPYHbUDNFc0ACnNnc2LqrW+qfYVf7+jNE0ep76pf4/jhRPESFfpP0R1C000Ca/dhPLCNFn0oaCWpHUNjzENky0YdgUb+VhCU1zoCHwzpmYhwA2TOXc2xvjCzD1GDmhXSaXBVG87ziGSGvTyGN4dSnRqoLLEktEh2r3qHXS6OJW1JU=&p=0\n",
      "********************\n",
      "2\n",
      "포장이사견적비교 (주)이사몰\n",
      "https://adcr.naver.com/adcr?x=AuZf553xbEQekvsTGUhTN////w==kDNpTy9C+OkM9U9R5E62JyQ5R0kRNp6NCQa4LWde54JM6pGZsY2ZIA6mFxjsVSrCnj/JUhWZiohBAG5mPWt4lS5SE0KoQNPLKdf8/xBihNaqg2FUQtyu/IY3i3OX5+kxOoMZ2tS1b6FCivTte3heTY0pi/YLKwlsEFmJ6VY88Ujvle+Ekxg0lUQ0ZzMplahG+qXfugcH8NDSuMHgMyLNNzbpQT4NPRluyFl8n8kQqXSautHxCUgfn38l2q4e1ozFLmE63K4Dg2CKgGlPgFyt6UjOeBtZ9tYUjEYnrheCdSLNQoi3aneIp+b2T5SmjhGmL6YtIAb3Vqa7PnNWjXRoSRu2v66us2JaCkNGU27E/7O4a4c7F13VmK2hpa4Rf6PV9iiEyTb1YcW5qddcddBkhlv0ad6tSeJWhpISC8nO3lsEMi3NlnWa8c6KiJuX9Rk6GsNMxmXo0mPJlo0uI6hXMAMhtaD99MOCPsvSDYxg6U511C8ta6fi7oZPdUIIpAPmR6obSnhQDnU0Iu/oPZGrpCYQ73lWkbBXUBc5D/HsRZFIHSmMzxR4DrxVXlUlHP71tZwzdH2yzM9lBxg7ojb2IcaPlIxrBRehXtxBxyP7YkFKSYCAv9dUUwmEQFRzHQUgTPrWH/luzxVIoHnOi390W1jCttDbp49AmUbrX+9P1FhukM9ifL/dFA35XuPjsG2zc5GkNp9Ih4sC+lgqnCYI/K+6k2ps6PqgRzIDzJzGvNriXLJWo9330CsVXTwy4r1t1ANi1/paKeQ6cuoR+VRph2uXdum1eW6QR7OB0lmUUmAo=&p=0\n",
      "********************\n",
      "3\n",
      "이사업체1분매칭 위매치다이사\n",
      "https://adcr.naver.com/adcr?x=bk4+oygtcygyVgKdFyuKWv///w==ko7kWla0DG2ytaBTDm8gxh/lW2JNsaXoFhK5eC6yWL3o7HABY+sEZav7BoYl48ELISQcmmgo25BPPfNpT4qImNLWKVR4aeDvZ4XYlXrj6C/A68TpOz+Zsi58+M5xIrXylhWD+88VdiGPceGGlz5/C3rR/Y8/Bgyta8ikKqWANvwwQAwNon1gR/YS5IDvF27PCS+hGpijFfGOGGxRzsW3sUZFwblaXPYzeh3zEqWHXdDzWpHlfaWupTJJCK6quJbKMarZ6vb+iRlgbPeW/fTD57l1y2P/px1AVSnA4LKImOYgDxpKdFwiJL5UTDB2ZckufTsnHTS3LjpaVN098fDSPMU5to0hPf6C9G5xJ6zMroNZ2pgX6hQjyC5vy2Ot+iacfK2N92DRYbLpAhysLONv+YHov+59N/PQ+ETP9aWk4si9AIA/9D1c+aPlo5gGlX58s3aYU5fOjsR8kAB8WyurPVP+QIFuvz6J3wz81Qpo/ixklKm4C6PgePHh1sSeae3tDOHuEsGM+uF2IbTp0SivNfWNui81oD8jwUB0BYMs67eJZFf9EgFiNt/AqDNSYyQulrABy9zd22aPzwNltk2R/L58gRjWf+5CO+ZNcoe67tqhkXNjs643b4Hgh9u+F+NvyU0THWpbcCKmMnnqB3hJSBPnGrE94itBm3i6vz7OTk9/lUJQ2KX9HpBoqOW1uh9Zxjgyr/BnnJ3xc9pZI86vBuI0Cnd0cZjmjvS+Z6QzTjJLZUJk+Sa2bvl2MxGs5e94QZc2n+H/1dD3+X4RUsJIOxqw6M3v7vYkhJgSy3kEoSlFnDpz2ZEvLGgtL/uTcjJDPdMj8oG7uT+fBfFBQuJOziKyeKcL7k5s1U2OBDzHoUfaXrUDWgt+YyXueFW/beAiqoVPjJORP7n7N3CaKJyIYMA==&p=0\n",
      "********************\n",
      "4\n",
      "3개 업체 비교견적 모두이사\n",
      "https://adcr.naver.com/adcr?x=4RW5TdXrb0LZPNs2a021lf///w==k0knjwa15Y3LSN/H4wiCeaAhujkuURKkdvZKUbHRgfxGpiLY48TFnXek4vOh6iSboMUAIvG3lguGuH+OGAFH2xJ+qW6rrRZMebHauggAUca1/WZdFaDDqFDSU6wdcG9gFO5g4pNJ9aWvn4O58e9sGctOQupG0uvu5Nsx7myUTnmDWZWsmpMPh+zjqzPLJNggSUkymMqMfX2+VUCyKVz+qX8s4Gal0qmu3TabdLztchs+zeiaUfUeQrJzweVfwIeduoUUclNBlZ32je89DunaWqVlA45UPA9gvDwUONLlxQ7Ifs5ZDK+PcvWg01Lzh6PZ6IhyQpkoD1RGF5XiQK8k5PzY7HA+hOXtzR5QCNMtB4/VsKNMWOFSIT3sblIIVc56j/Cw3sGP0jOjY3KGcuujPZrnTCL/1oFqyE1J3kz4HA8aHauoBqSRAQgI6YvmxlRvlbEAWDVewVwJ0ZKlKXywice2Ovunh4m/6AEyPdCEV6uRMVts14qsQoaVomDqhMQcYlZu6buIigIUqlYUJ6rWmGIDdN228ygtC2IdiaKn2wst02Zn/8xi0yXR7cu960S5sbWzGK170J+bH3qxJjVj9hPnR++Pnm31F639SSecbfg59K4k3Q0+MioSG3U4o/+ppJ/a0KdPN7qgdhrJyEBaqY1LGVqnq2xi9LqgKQShkQPi5CXfiO4qATRhvS/tXpBFM5iFTwGyshuQsf/Oi60V+WQfLOi39E7vnEJVAKjsxdZKz/GM5FTHXmffidVlgXWj9YWC5Q/gl2rF9UiT907W6BxFa7FTUKN+VkrPdBrIJCAq8chxBwDYSwx3o6JkqhtK1&p=0\n",
      "********************\n",
      "5\n",
      "포장이사가격비교 24번가\n",
      "https://adcr.naver.com/adcr?x=YWvlFHRZ2ZhqsJEat4XhwP///w==kTaU0nrtJ9al8Q4MuhZBsV71f6SaveLYatWX3ZuPm3skzqAyu0M69zRSvJN6VqyQrCE70Q2PI47NWSUwR0vTFdUnt8GIlDSviX0YCe36LRW1qQOiz6ETqKeEl8gzbQ0/g7zMyW0L4PSBsA7Sslm/EEIALiB8v6SCoxTFRN8oSeFOm7OclkMwzNGukt75sPkeFOILGRkrPhGqyDoNpNZIqr1XLd7Sp2LsN9So41V2+ebu9dNP7YEgKEGmfp5TKYkLqpiqmWH64uabGv3yASpNiNKQBrETNkbesKFcLNdOn43A1Czl3eHOeir5fVWqLHKsg9RdW+1QdDrjfyUFo9BLXOiv6iDFgZjyrDK5xjudFPWeie4bbu6cPZT9MfoqOR54VsMGsfSOEXa7ah9Rtpi757I98Xrr6tiilNbWRbMR9DG3A78itNYcKLTsiJPeiI+gYV6OHcbzspDxWk8kklRbKX5VHOy0hQYshRunvUTLFDxYfoemnv2iExxs2H6+RpxR7LtCrmgUiXT8OSfgLjUOAtHLjFLwjQG/P8icFFa7TVTzofK6S6gfSpe9NFSG8tGsimaECgZ6Pu+euYhV7MSrsSqDFcj3gNv/RlzQTQ6UmruQ1y/Yvz3TEeoZNoOXJNTgwStWxVyvXH5mEX0NwdVO9ZcRaStWxlPch2S0DEHuFfxg=&p=0\n",
      "********************\n",
      "6\n",
      "포장이사의 기준! #다방\n",
      "https://adcr.naver.com/adcr?x=QZbrzBLvtydiOF+Dy18oqf///w==kbtdRxb7iQIS/1XT3rpX8Jdl/JImunGl4oFqP0FDjwDFIClxp3uxo8Rf5bpgZODjyjRNGPgIiW4luZKAZv5saGtdLRLqfkArm69v0hXa3z7N71Zpdh/RFpmVkzA844+P3ZhwPX37ZTteLnD7Og4EY7D0ob8We3WwAoQmXBczFAqm9Z9gLQR/5TtjcrF6Gu/cgw8BBGKk7as5Sk+BjHqG8AaXIBAfE0vqBPKi8K2UQfh5rzvz+y3HxJkbJ8iyUYCo6L5VL233RCM4ImKfkfkjZnSxo4M7H5RqwxgCPjHPcYN0fhLtO1hDbdd7ZUY0bqGrreHJWbzG4nCNjCOFsbuv+UJernwiCg+K3S5JMUp1hm9HbT/4LeTHXPYeplUCjy6DAhNMZURyriyPfoIJx/7SOvP6bicifhddiJj8FjYFD+do/Xrpem7FJ4QttbKMnZl85W4IWgi/jKCATlahrffgnpU24l457tNXsI7HUjXrHBD9SM/MKWJ6R0kplai8dvwt//DxmnoEE6YIadoanlz0RLPD/f3bU/czEcdOoFWZ63+RWo2nnI9kawMtSXQ8TTX0qJbud0HAT4eo6qigyUJU4kSR6C167J7Q98zoXXXDFRMIBv40/yIBW0hQ7ox8bmahTaxANfzZZ/6CpdwQ9vPSbRzMMQApjrv4V0V/knxx1rUIuEhZLqqvzjbMyGisiKpfEHttMo4UGjeXc7alNeER+mYSmGNEFJga+E5lv7Sm/D6j/yWiNCb3qu2MLTuABi1LNOmh1iqn2H+L+60DW6FacFQ==&p=0\n",
      "********************\n",
      "7\n",
      "포장이사 OK이사이사\n",
      "https://adcr.naver.com/adcr?x=FL8a5D4RtF+6L9/k03QL4v///w==kKu0xgmNPMrG3Q51rUKoCyxXep0CgywyCLnpZdpwiuQNKd3Ty2wchuxtPFTy86nlBhUj7WiNorvfjnu1d+lesN2Q4jjuHTT5fGArFo6lJkQ5dhEhZHfQyNXK29lIYQmwTvxucYad4dRkbaLmALEiNhIscODhLPAlnHF/fZOVprjcgX8E0mMn4x2plfcimh7uy2XtKcY3OHqDAnTLf6hQObcb9yVjjcSzI15G9lroVOJD8lsb920ZUR1+2NrXNhXs/AYWeRcGlXGhIEqQCOfa4LzUnXy3cjXK0DHoRXRAtifRURloolvz25iS9sqXt/iZ9gA7EuqhxQufOc+yph47k4CAHp8emt4AmFBf2uHWrQ9JZ0SSUC6Ou39s2w/7FljIVv4zGqrKHNXHy7AYXerOciDtPZjye2i9lX/Uwqz7Xy35YBRrWAfc9dbJcj6C44wA/d4L7TiHvPbyu5UyrrZWII9y+5xrfens/Ax1DnkieTgCU1N55J+F9gnWylPv0TSG5SMmjpY7JKXXjm09wM1FbmelG4PbcKAp0ta/sX4CM/0yZGMKP1VGRwQNP9UKCx9aTb1QUtZEy6c0I5SKd3IPoJVflaYzENc/25Z3eG3x+ZtV7fkgw+5fnxXz4MuEXKMLrIcGTyF2MRWY3tK087VEHKWWbor3iKw6TapfJiTBBgC09uznbyWE4t1RwwRCqGdDRzJ+9Gmt+jwGmp89NmJYxwvTkWQ0YIEvDaLthn3dBXc03R3+/E0RG8tJwAG1M3LB637JKNAUH2BBX0IVwTQD6rSgIXnKmzjnEPFK3NQGSbecXYJ56E73/T3/Q0Vdr1Htr&p=0\n",
      "********************\n",
      "8\n",
      "명품이사브랜드 로젠이사\n",
      "https://adcr.naver.com/adcr?x=1WoN0QFkDiidLHy1ciK/6////w==kYp1rNToidqeVcmLtXi5V5YgFI3rvP65D+lzUz9dOA5hGeUXbmOK2rc+mZsN5WDhK7zRmbIphwnzclfCrTIiaYcnY0GX2weO3itsE6cTwNttbTKZQ/uS4TEsGl6zk01X43x1sWEi0AfezgbYrc7gTwL69g/RV4vqcbRukhIJO6ynha9FAtB4KB7HpaKH1TzAEBp12gg1bAkMP1Fvr7GIo+bOhjlGx8d6nyi+8Gox7mGOkgrpIi7Q6PQbN+k4fvfap6w4hJgQieDSOD0b3yxV2r1gmuOtWKu43Z5/44Acz6ATxiQt33xQSqyTtQ1fuDoNlElwGm40lkujGgpYHa51Wh7L9TGs9vnuXeRYBdIt4Kp3pD/6483Uva7XO81EPlsZvJMoEhZUkm94D+vrQzbksCAsvOGDgKPtXwpqfyw8ySsh2k8Plb/e5GPeL1UshvpRf4QQLUxD7n+Jtonrgcna4CzyoUeWIN4NVCmByY+fVyM1hfeyw5IzYm7kyDwlMb+uI4IEpzrkG+GGU9oSKgDzLYp9GQMx6titNiFxKYdIGB5OhO6FnfSwtS4djYWjuAQN41Wk+h86QNgm/qoHAf9uNqIOYoDV9Wx8JbZKGVv3+CuisdOGR2j2430RIx+9mH1QEDF7a+O29rx9Q60UDC1o4IeUecViceYvLo2vgTeDyR+Emo2bYvsnetN/1uknJ7td9C+xTfru1DwvRRIY+rytCXsyEe29ypXJeaZO2us+By/6I3Kf4JFAlKH4Idh2KnaMW&p=0\n",
      "********************\n",
      "9\n",
      "포장이사 전문 홍반장이사\n",
      "https://adcr.naver.com/adcr?x=Xj190MUaH3Lf3/WUeLZMx////w==koV8+Tw9gakZlujRwiqWJmqefWkwcVWOLQzaD5OjX+T9e5Me24gpWfTy2jLAt5JGo0QYfpBUBs3xOVKWmZGxdPdzYkkzEm04YsK116NR6ILce8RojjmWL+AzoA/HQLKVQuYaPewfPbHbbIHR5Mm6yKrzAPweLArN160rGMzEs+1HkxmlEEll7jjBOtu8b/TeLNUtR7RNJ01dBcHFIL6QoQnSJQtrJRoSs2Pci66O+vEuKGl1wImNL6bEMktoNJTgfkhIUlKiQVXEtWq3jJO9r5vaVxwwnnkjFbC50fhKafezoyRcyX7pRTT3VB5nycwdncuer02CiQwfYlnWLBNrZ36ESXGc0xOW1iuCg1KbZOAr/lVKNPi1tmdxu5GA1EIU6bOPoOPDQ7SDwymIuWwljPYpv5Azk02iTLRdFVdfKwa5sdHxtlbbr2uLzrAzZI2tkC7mzEtpCVLCbixLBlM4Dh9SVt1x4jfQew/UhNNle667QPlboHtS+tUQSXPGzBSQjh4POaHDWuBoJ9UvUWRKkFVHNGsi4baa0d841/K1CezG0CzMMyaI/eEIoe0AHn05/1EK6rMfXaAmyNOAQaeq3wtuKNRm86ewb3glAeVm6824FBjkrnrQxoHY8i9QrRsye3Cs//477ChzT87NJgEjC0/JuPe2p6hYQtQOTqhQV+zQW+R3Ibeyh5SjMxKKmaHx51wC5xLQLd0YILkVUzik/6orUxIy8sYppzx/VTsEqdVjti2iQARi2H2svkwo5j4/fkbwNE8P4le5rpVXXFtgbM58cA40IqiaNED5iGJB029s=&p=0\n",
      "********************\n",
      "10\n",
      "포장이사견적비교, 숨고에서!\n",
      "https://adcr.naver.com/adcr?x=tgSzG2Pya0QA51EdOo8Jgv///w==k5W/JO21uYX9B5+TMiEJoBZcphF6eqNlLszveLoqmFkBcTO7JI8vuUArI5jrLwEQUMUBCDFFhfGWBtjPBaQfJyVJEDgQI1xT6SaTeyoGcHSNm/EDoZcGj2kjeadWIxrwe7EgOoWGnu2UON/2sSmIBFtuq/j/2BdPGrfJDHlzpF5WTEjESIKcPRu2RX9yNICDAvPqf9K0FMnsp46pk86wcNV7k7a1Oec3E7VLixngVvg5KakvDDUkA5+rinVJJ+EClTUOvtnMtgrrPLwNFglvz5cbnwPJ6x5MQ9AnsYWWDEyjuzbTT3lzL6r+H8+vildtVvIDio9KZYNGxUncTiTOo+22mKQYS8pLAfsfVpiBBEByr8zaTHeCKmyMCMictBYe3bU8Zh8CJ9vRiexSe2d5rdtUhLQZd9sppQle04OjhtFKzusK2RrXdCDuqkOog7T4kpRgFaN7jsJzwmBqxli+N4js4hmHwY2LC170zni+FF0Z1qSqUrvp4ND3TE3dcjszJYjc0qzfx82X+4eOPwVN2cZfYspKucrwB6eGRB3wtFxh0Zc720PTdT7Q4v1r338vAy8kqB1vuDSSYYmfsrv5gekSkWsQC4pvljEMsyLv41EtbdYUmrOqEm+DR8tgWfLYE8p5LsG8vJv68RWlWwZrlAFPFGEP5n1rMIzzOdh0rmjD0om9P9jsTG1CLmbThuwYZBaDlmIYbIv61CWBIMyzy8kkrY/3+xmrfxM+hdAiC0pJkma7C2zSPo1kbNUZ1vYQUQD/YdsnvLTsiKn568/hf+38G3JrjHUUzIuvROtl57X6dsaMFDgxghvGrGbuZ/LjefoNZMLzWLaOnRcDVUMIcLg==&p=0\n",
      "********************\n"
     ]
    }
   ],
   "source": [
    "rank=1\n",
    "for li in li_list:\n",
    "    inner_list = li.find_elements_by_class_name('inner')\n",
    "    for inner in inner_list:\n",
    "        a_tag = inner.find_element_by_tag_name('a')\n",
    "        link = a_tag.get_attribute('href')\n",
    "        sheet.append([a_tag.text, link, rank]) #\n",
    "        print(rank)        # 업체 검색순위\n",
    "        print(a_tag.text)  # 이사업체명\n",
    "        print(link)        # 업체 링크        \n",
    "        print(\"*\" * 20)    # *를 20번 출력한다 \n",
    "        rank = rank + 1    # 순위를 증가시킨다 "
   ]
  },
  {
   "cell_type": "code",
   "execution_count": null,
   "metadata": {},
   "outputs": [],
   "source": []
  },
  {
   "cell_type": "code",
   "execution_count": 11,
   "metadata": {},
   "outputs": [],
   "source": [
    "file_name = 'Naver_Rank.xlsx'\n",
    "xlsx.save(file_name)"
   ]
  },
  {
   "cell_type": "code",
   "execution_count": null,
   "metadata": {},
   "outputs": [],
   "source": [
    "driver.quit()"
   ]
  },
  {
   "cell_type": "code",
   "execution_count": null,
   "metadata": {},
   "outputs": [],
   "source": []
  }
 ],
 "metadata": {
  "kernelspec": {
   "display_name": "book",
   "language": "python",
   "name": "book"
  },
  "language_info": {
   "codemirror_mode": {
    "name": "ipython",
    "version": 3
   },
   "file_extension": ".py",
   "mimetype": "text/x-python",
   "name": "python",
   "nbconvert_exporter": "python",
   "pygments_lexer": "ipython3",
   "version": "3.7.9"
  }
 },
 "nbformat": 4,
 "nbformat_minor": 4
}
