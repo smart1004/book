{
 "cells": [
  {
   "cell_type": "markdown",
   "metadata": {},
   "source": [
    "**naver 광고 검색 노출 순위 조사**   \n",
    "**[ 유저 시나리오 ]**  \n",
    "나는 OO포장이사 마케터이고 네이버 광고마케팅을 담당하고 있다.\n",
    "\n",
    "네이버 키워드 검색 시 순위1 ~ 5위 안에 드는 광고게시글 링크를 추출하고  \n",
    "전날과 비교해서 순위가 변동된 내역을 메일로 받아 보길 원한다. \n",
    "- 검색 키워드 : ‘포장이사’\n",
    "- 매일 오후 4시 메일 송부"
   ]
  },
  {
   "cell_type": "code",
   "execution_count": null,
   "metadata": {},
   "outputs": [],
   "source": []
  },
  {
   "cell_type": "markdown",
   "metadata": {},
   "source": [
    "**Exception 처리를 해준다**\n",
    "- driver.quit()  \n",
    "quit()는 열려있는 모든 webdriver를 종료하고 세션을 안전하게 종료합니다.  \n",
    "프로그램을 종료할 때 quit()을 사용하지 않는다면 webdriver 세션이 완벽하게 종료되지 않아 메모리 누수가 발생할 수 있습니다.  "
   ]
  },
  {
   "cell_type": "code",
   "execution_count": 5,
   "metadata": {},
   "outputs": [],
   "source": [
    "from selenium import webdriver\n",
    "driver = webdriver.Chrome('./chromedriver')\n",
    "driver.get('https://naver.com/') #naver로 이동한다\n",
    "\n",
    "#**포장이사로 검색한다.**\n",
    "try:\n",
    "    elem = driver.find_element_by_id('query') #검색키워드 입력박스\n",
    "\n",
    "    elem.send_keys('포장이사') # 포장이사를 입력한다\n",
    "\n",
    "    from selenium.webdriver.common.keys import Keys # RETURN Enter를 \n",
    "    elem.send_keys(Keys.RETURN) #Enter를 누른다\n",
    "    \n",
    "    elem = driver.find_element_by_id('power_link_body')\n",
    "    #저 id를 어떻게 알게 되었는가?\n",
    "    #print(elem.text)\n",
    "    li_list = elem.find_elements_by_tag_name('li')\n",
    "\n",
    "    rank=1\n",
    "    for li in li_list:\n",
    "        inner_list = li.find_elements_by_class_name('inner')\n",
    "        for inner in inner_list:\n",
    "            a_tag = inner.find_element_by_tag_name('a')\n",
    "            link = a_tag.get_attribute('href')\n",
    "            print(rank)        # 업체 검색순위\n",
    "            print(a_tag.text)  # 이사업체명\n",
    "            print(link)        # 업체 링크\n",
    "            rank = rank + 1    # 순위를 증가시킨다 \n",
    "            print(\"*\" * 20)    # *를 20번 출력한다   \n",
    "\n",
    "except Exception as e:\n",
    "    print(e)\n",
    "finally:\n",
    "    driver.quit()           "
   ]
  },
  {
   "cell_type": "code",
   "execution_count": 9,
   "metadata": {},
   "outputs": [],
   "source": []
  },
  {
   "cell_type": "code",
   "execution_count": null,
   "metadata": {},
   "outputs": [],
   "source": []
  },
  {
   "cell_type": "code",
   "execution_count": null,
   "metadata": {},
   "outputs": [],
   "source": []
  },
  {
   "cell_type": "code",
   "execution_count": null,
   "metadata": {},
   "outputs": [],
   "source": []
  },
  {
   "cell_type": "code",
   "execution_count": null,
   "metadata": {},
   "outputs": [],
   "source": []
  }
 ],
 "metadata": {
  "kernelspec": {
   "display_name": "book",
   "language": "python",
   "name": "book"
  },
  "language_info": {
   "codemirror_mode": {
    "name": "ipython",
    "version": 3
   },
   "file_extension": ".py",
   "mimetype": "text/x-python",
   "name": "python",
   "nbconvert_exporter": "python",
   "pygments_lexer": "ipython3",
   "version": "3.7.9"
  }
 },
 "nbformat": 4,
 "nbformat_minor": 4
}
